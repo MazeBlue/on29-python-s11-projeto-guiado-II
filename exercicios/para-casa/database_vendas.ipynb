{
 "cells": [
  {
   "cell_type": "code",
   "execution_count": 1,
   "metadata": {},
   "outputs": [],
   "source": [
    "import csv\n",
    "import sqlite3"
   ]
  },
  {
   "cell_type": "code",
   "execution_count": 2,
   "metadata": {},
   "outputs": [],
   "source": [
    "conn= sqlite3.connect('Clientes.db')\n",
    "cursor= conn.cursor()\n",
    "\n",
    "with open('./1.customer_dim.csv', newline= '', encoding='utf-8') as csvfile:\n",
    "    leitor= csv.reader(csvfile)\n",
    "    next(leitor)\n",
    "    conteudo = list(leitor)\n",
    "\n",
    "cursor.execute('''CREATE TABLE Clientes(\n",
    "               cust_id INTEGER,\n",
    "               cust_address TEXT,\n",
    "               cust_age INTEGER,\n",
    "               effective_start_date DATE,\n",
    "               effective_end_date DATE,\n",
    "               current_ind TEXT                    \n",
    ")''')\n",
    "        \n",
    "cursor.executemany('INSERT INTO Clientes(cust_id, cust_address, cust_age, effective_start_date, effective_end_date, current_ind) VALUES (?, ?, ?, ?, ?, ?)', conteudo)\n",
    "cursor.execute('SELECT * FROM Clientes').fetchall\n",
    "\n",
    "conn.commit() # comenta as alterações \n",
    "cursor.close() # desliga o cursor\n",
    "conn.close() # desliga a conexão"
   ]
  },
  {
   "cell_type": "code",
   "execution_count": 3,
   "metadata": {},
   "outputs": [],
   "source": [
    "conn = sqlite3.connect('Produtos.db')\n",
    "cursor = conn.cursor()\n",
    "\n",
    "with open('2.product_dim.csv', newline='', encoding='utf-8') as csvfile:\n",
    "    leitor= csv.reader(csvfile)\n",
    "    next(leitor)\n",
    "    conteudo = list(leitor)\n",
    "\n",
    "cursor.execute('''\n",
    "CREATE TABLE Produtos(\n",
    "               product_id INT,\n",
    "               product_name VARCHAR,\n",
    "               product_price REAL,\n",
    "               effective_start_date DATE,\n",
    "               effective_end_date DATE,\n",
    "               current_ind VARCHAR\n",
    ")''')\n",
    "\n",
    "cursor.executemany('INSERT INTO Produtos (product_id, product_name, product_price, effective_start_date, effective_end_date, current_ind) VALUES (?, ?, ?, ?, ?, ?)', conteudo)\n",
    "cursor.execute('SELECT * FROM Produtos').fetchall\n",
    "\n",
    "conn.commit() # comenta as alterações \n",
    "cursor.close() # desliga o cursor\n",
    "conn.close() # desliga a conexão"
   ]
  },
  {
   "cell_type": "code",
   "execution_count": 4,
   "metadata": {},
   "outputs": [],
   "source": [
    "conn = sqlite3.connect('Vendas.db')\n",
    "cursor = conn.cursor()\n",
    "\n",
    "with open('./3.sales_transactions.csv', newline='', encoding='utf-8') as csvfile:\n",
    "    leitor= csv.reader(csvfile)\n",
    "    next(leitor)\n",
    "    conteudo = list(leitor)\n",
    "\n",
    "cursor.execute('''\n",
    "CREATE TABLE Vendas(\n",
    "               order_id INT,\n",
    "               product_id INT,\n",
    "               cust_id INT,\n",
    "               product_quantity INT,\n",
    "               order_date DATE\n",
    ")''')\n",
    "\n",
    "cursor.executemany('INSERT INTO Vendas (order_id, product_id, cust_id, product_quantity, order_date) VALUES (?, ?, ?, ?, ?)', conteudo)\n",
    "cursor.execute('SELECT * FROM VENDAS').fetchall\n",
    "\n",
    "conn.commit() # comenta as alterações \n",
    "cursor.close() # desliga o cursor\n",
    "conn.close() # desliga a conexão"
   ]
  }
 ],
 "metadata": {
  "kernelspec": {
   "display_name": "Python 3",
   "language": "python",
   "name": "python3"
  },
  "language_info": {
   "codemirror_mode": {
    "name": "ipython",
    "version": 3
   },
   "file_extension": ".py",
   "mimetype": "text/x-python",
   "name": "python",
   "nbconvert_exporter": "python",
   "pygments_lexer": "ipython3",
   "version": "3.10.11"
  }
 },
 "nbformat": 4,
 "nbformat_minor": 2
}
